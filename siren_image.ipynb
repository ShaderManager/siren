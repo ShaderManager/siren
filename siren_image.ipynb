{
 "cells": [
  {
   "cell_type": "code",
   "execution_count": 1,
   "metadata": {},
   "outputs": [],
   "source": [
    "import torch\n",
    "import torch.nn as nn\n",
    "from torchvision import transforms\n",
    "from torch.utils.data import TensorDataset, DataLoader\n",
    "from siren import SirenModel\n",
    "from PIL import Image"
   ]
  },
  {
   "cell_type": "code",
   "execution_count": 2,
   "metadata": {},
   "outputs": [
    {
     "output_type": "execute_result",
     "data": {
      "text/plain": "device(type='cuda', index=0)"
     },
     "metadata": {},
     "execution_count": 2
    }
   ],
   "source": [
    "device = torch.device(\"cuda:0\" if torch.cuda.is_available() else \"cpu\")\n",
    "device"
   ]
  },
  {
   "cell_type": "code",
   "execution_count": 3,
   "metadata": {},
   "outputs": [],
   "source": [
    "img = Image.open(\"lenna.png\")"
   ]
  },
  {
   "cell_type": "code",
   "execution_count": 4,
   "metadata": {},
   "outputs": [
    {
     "output_type": "execute_result",
     "data": {
      "text/plain": "(512, 512)"
     },
     "metadata": {},
     "execution_count": 4
    }
   ],
   "source": [
    "img.size"
   ]
  },
  {
   "cell_type": "code",
   "execution_count": 5,
   "metadata": {},
   "outputs": [],
   "source": [
    "transformations = transforms.Compose([transforms.Resize(256), transforms.ToTensor(), transforms.Normalize(0.5, 0.5)])"
   ]
  },
  {
   "cell_type": "code",
   "execution_count": 6,
   "metadata": {},
   "outputs": [
    {
     "output_type": "execute_result",
     "data": {
      "text/plain": "torch.Size([65536, 3])"
     },
     "metadata": {},
     "execution_count": 6
    }
   ],
   "source": [
    "y = transformations(img).reshape(3, -1).transpose(0, 1)\n",
    "y.shape"
   ]
  },
  {
   "cell_type": "code",
   "execution_count": 7,
   "metadata": {},
   "outputs": [
    {
     "output_type": "execute_result",
     "data": {
      "text/plain": "torch.Size([65536, 2])"
     },
     "metadata": {},
     "execution_count": 7
    }
   ],
   "source": [
    "g0, g1 = torch.meshgrid([torch.arange(-1, 1, step = 2 / 256), torch.arange(-1, 1, step = 2 / 256)])\n",
    "x = torch.cat([g0.flatten().unsqueeze(1), g1.flatten().unsqueeze(1)], dim = 1)\n",
    "x = x.float()\n",
    "x.shape"
   ]
  },
  {
   "cell_type": "code",
   "execution_count": 8,
   "metadata": {},
   "outputs": [],
   "source": [
    "dataset = TensorDataset(x, y)"
   ]
  },
  {
   "cell_type": "code",
   "execution_count": 9,
   "metadata": {},
   "outputs": [],
   "source": [
    "dataloader = DataLoader(dataset, batch_size = 4096, shuffle = True, pin_memory = True)"
   ]
  },
  {
   "cell_type": "code",
   "execution_count": 10,
   "metadata": {},
   "outputs": [],
   "source": [
    "model = SirenModel(layer_dims = [2, 256, 128, 64, 32, 3]).to(device)"
   ]
  },
  {
   "cell_type": "code",
   "execution_count": 11,
   "metadata": {},
   "outputs": [
    {
     "output_type": "execute_result",
     "data": {
      "text/plain": "SirenModel(\n  (layers): ModuleList(\n    (0): SirenLayer()\n    (1): SirenLayer()\n    (2): SirenLayer()\n    (3): SirenLayer()\n    (4): SirenLayer()\n  )\n)"
     },
     "metadata": {},
     "execution_count": 11
    }
   ],
   "source": [
    "model.train()"
   ]
  },
  {
   "cell_type": "code",
   "execution_count": 12,
   "metadata": {},
   "outputs": [],
   "source": [
    "optimizer = torch.optim.Adam(model.parameters(), lr = 0.0005)"
   ]
  },
  {
   "cell_type": "code",
   "execution_count": 13,
   "metadata": {},
   "outputs": [],
   "source": [
    "criterion = torch.nn.MSELoss()"
   ]
  },
  {
   "cell_type": "code",
   "execution_count": 14,
   "metadata": {
    "tags": []
   },
   "outputs": [
    {
     "output_type": "stream",
     "name": "stdout",
     "text": "0 -> 0.4662\n1 -> 0.2400\n2 -> 0.1356\n3 -> 0.0894\n4 -> 0.0660\n5 -> 0.0520\n6 -> 0.0427\n7 -> 0.0360\n8 -> 0.0311\n9 -> 0.0272\n10 -> 0.0242\n11 -> 0.0217\n12 -> 0.0197\n13 -> 0.0180\n14 -> 0.0166\n15 -> 0.0153\n16 -> 0.0143\n17 -> 0.0134\n18 -> 0.0126\n19 -> 0.0119\n20 -> 0.0112\n21 -> 0.0107\n22 -> 0.0102\n23 -> 0.0097\n24 -> 0.0093\n25 -> 0.0089\n26 -> 0.0086\n27 -> 0.0083\n28 -> 0.0080\n29 -> 0.0077\n30 -> 0.0075\n31 -> 0.0073\n32 -> 0.0070\n33 -> 0.0069\n34 -> 0.0067\n35 -> 0.0065\n36 -> 0.0063\n37 -> 0.0062\n38 -> 0.0060\n39 -> 0.0059\n40 -> 0.0057\n41 -> 0.0056\n42 -> 0.0055\n43 -> 0.0054\n44 -> 0.0053\n45 -> 0.0052\n46 -> 0.0051\n47 -> 0.0050\n48 -> 0.0049\n49 -> 0.0048\n50 -> 0.0047\n51 -> 0.0047\n52 -> 0.0046\n53 -> 0.0045\n54 -> 0.0044\n55 -> 0.0044\n56 -> 0.0043\n57 -> 0.0042\n58 -> 0.0042\n59 -> 0.0041\n60 -> 0.0041\n61 -> 0.0040\n62 -> 0.0040\n63 -> 0.0039\n64 -> 0.0039\n65 -> 0.0038\n66 -> 0.0038\n67 -> 0.0037\n68 -> 0.0037\n69 -> 0.0036\n70 -> 0.0036\n71 -> 0.0036\n72 -> 0.0035\n73 -> 0.0035\n74 -> 0.0034\n75 -> 0.0034\n76 -> 0.0034\n77 -> 0.0033\n78 -> 0.0033\n79 -> 0.0033\n80 -> 0.0032\n81 -> 0.0032\n82 -> 0.0032\n83 -> 0.0031\n84 -> 0.0031\n85 -> 0.0031\n86 -> 0.0031\n87 -> 0.0030\n88 -> 0.0030\n89 -> 0.0030\n90 -> 0.0030\n91 -> 0.0029\n92 -> 0.0029\n93 -> 0.0029\n94 -> 0.0029\n95 -> 0.0028\n96 -> 0.0028\n97 -> 0.0028\n98 -> 0.0028\n99 -> 0.0028\n100 -> 0.0027\n101 -> 0.0027\n102 -> 0.0027\n103 -> 0.0027\n104 -> 0.0026\n105 -> 0.0026\n106 -> 0.0026\n107 -> 0.0026\n108 -> 0.0026\n109 -> 0.0025\n110 -> 0.0025\n111 -> 0.0025\n112 -> 0.0025\n113 -> 0.0025\n114 -> 0.0025\n115 -> 0.0024\n116 -> 0.0024\n117 -> 0.0024\n118 -> 0.0024\n119 -> 0.0024\n120 -> 0.0024\n121 -> 0.0024\n122 -> 0.0023\n123 -> 0.0023\n124 -> 0.0023\n125 -> 0.0023\n126 -> 0.0023\n127 -> 0.0023\n128 -> 0.0023\n129 -> 0.0022\n130 -> 0.0022\n131 -> 0.0022\n132 -> 0.0022\n133 -> 0.0022\n134 -> 0.0022\n135 -> 0.0022\n136 -> 0.0022\n137 -> 0.0022\n138 -> 0.0021\n139 -> 0.0021\n140 -> 0.0021\n141 -> 0.0021\n142 -> 0.0021\n143 -> 0.0021\n144 -> 0.0021\n145 -> 0.0021\n146 -> 0.0020\n147 -> 0.0020\n148 -> 0.0020\n149 -> 0.0020\n150 -> 0.0020\n151 -> 0.0020\n152 -> 0.0020\n153 -> 0.0020\n154 -> 0.0020\n155 -> 0.0020\n156 -> 0.0020\n157 -> 0.0019\n158 -> 0.0019\n159 -> 0.0019\n160 -> 0.0019\n161 -> 0.0019\n162 -> 0.0019\n163 -> 0.0019\n164 -> 0.0019\n165 -> 0.0019\n166 -> 0.0019\n167 -> 0.0019\n168 -> 0.0018\n169 -> 0.0018\n170 -> 0.0018\n171 -> 0.0018\n172 -> 0.0018\n173 -> 0.0018\n174 -> 0.0018\n175 -> 0.0018\n176 -> 0.0018\n177 -> 0.0018\n178 -> 0.0018\n179 -> 0.0018\n180 -> 0.0018\n181 -> 0.0017\n182 -> 0.0017\n183 -> 0.0017\n184 -> 0.0017\n185 -> 0.0017\n186 -> 0.0017\n187 -> 0.0017\n188 -> 0.0017\n189 -> 0.0017\n190 -> 0.0017\n191 -> 0.0017\n192 -> 0.0017\n193 -> 0.0017\n194 -> 0.0017\n195 -> 0.0017\n196 -> 0.0017\n197 -> 0.0016\n198 -> 0.0016\n199 -> 0.0016\n200 -> 0.0016\n201 -> 0.0016\n202 -> 0.0016\n203 -> 0.0016\n204 -> 0.0016\n205 -> 0.0016\n206 -> 0.0016\n207 -> 0.0016\n208 -> 0.0016\n209 -> 0.0016\n210 -> 0.0016\n211 -> 0.0016\n212 -> 0.0015\n213 -> 0.0015\n214 -> 0.0015\n215 -> 0.0015\n216 -> 0.0015\n217 -> 0.0015\n218 -> 0.0015\n219 -> 0.0015\n220 -> 0.0015\n221 -> 0.0015\n222 -> 0.0015\n223 -> 0.0015\n224 -> 0.0015\n225 -> 0.0015\n226 -> 0.0015\n227 -> 0.0015\n228 -> 0.0015\n229 -> 0.0015\n230 -> 0.0015\n231 -> 0.0015\n232 -> 0.0014\n233 -> 0.0014\n234 -> 0.0014\n235 -> 0.0014\n236 -> 0.0014\n237 -> 0.0014\n238 -> 0.0014\n239 -> 0.0014\n240 -> 0.0014\n241 -> 0.0014\n242 -> 0.0014\n243 -> 0.0014\n244 -> 0.0014\n245 -> 0.0014\n246 -> 0.0014\n247 -> 0.0014\n248 -> 0.0014\n249 -> 0.0014\n250 -> 0.0014\n251 -> 0.0014\n252 -> 0.0014\n253 -> 0.0013\n254 -> 0.0013\n255 -> 0.0013\n256 -> 0.0013\n257 -> 0.0013\n258 -> 0.0013\n259 -> 0.0013\n260 -> 0.0013\n261 -> 0.0013\n262 -> 0.0013\n263 -> 0.0013\n264 -> 0.0013\n265 -> 0.0013\n266 -> 0.0013\n267 -> 0.0013\n268 -> 0.0013\n269 -> 0.0013\n270 -> 0.0013\n271 -> 0.0013\n272 -> 0.0013\n273 -> 0.0013\n274 -> 0.0013\n275 -> 0.0013\n276 -> 0.0013\n277 -> 0.0012\n278 -> 0.0013\n279 -> 0.0013\n280 -> 0.0013\n281 -> 0.0012\n282 -> 0.0012\n283 -> 0.0012\n284 -> 0.0012\n285 -> 0.0012\n286 -> 0.0012\n287 -> 0.0012\n288 -> 0.0012\n289 -> 0.0012\n290 -> 0.0012\n291 -> 0.0012\n292 -> 0.0012\n293 -> 0.0012\n294 -> 0.0012\n295 -> 0.0012\n296 -> 0.0012\n297 -> 0.0012\n298 -> 0.0012\n299 -> 0.0012\n"
    }
   ],
   "source": [
    "for epoch in range(300):\n",
    "    losses = []\n",
    "    for batch in dataloader:\n",
    "        inputs, targets = batch\n",
    "        inputs, targets = inputs.to(device), targets.to(device)\n",
    "        predictions = model(inputs)\n",
    "        loss = criterion(predictions, targets)\n",
    "        losses.append(loss.reshape(-1))\n",
    "        \n",
    "        optimizer.zero_grad()\n",
    "        loss.backward()\n",
    "        optimizer.step()\n",
    "    \n",
    "    avg_loss = torch.mean(torch.cat(losses)).item()\n",
    "    print(\"{} -> {:.4f}\".format(epoch, avg_loss))"
   ]
  },
  {
   "cell_type": "code",
   "execution_count": 15,
   "metadata": {},
   "outputs": [
    {
     "output_type": "execute_result",
     "data": {
      "text/plain": "torch.Size([3, 256, 256])"
     },
     "metadata": {},
     "execution_count": 15
    }
   ],
   "source": [
    "with torch.no_grad():\n",
    "    test_y = model(x.to(device)).cpu()\n",
    "    test_y = test_y.transpose(0, 1).reshape(3, 256, 256)\n",
    "    test_y.shape"
   ]
  },
  {
   "cell_type": "code",
   "execution_count": 16,
   "metadata": {},
   "outputs": [],
   "source": [
    "test_img = transforms.ToPILImage(mode = 'RGB')(test_y * 0.5 + 0.5)"
   ]
  },
  {
   "cell_type": "code",
   "execution_count": 17,
   "metadata": {},
   "outputs": [],
   "source": [
    "test_img.show()"
   ]
  },
  {
   "cell_type": "code",
   "execution_count": 18,
   "metadata": {},
   "outputs": [],
   "source": [
    "# torch.save({'model' : model}, 'siren.cpt')"
   ]
  },
  {
   "cell_type": "code",
   "execution_count": null,
   "metadata": {},
   "outputs": [],
   "source": []
  }
 ],
 "metadata": {
  "language_info": {
   "codemirror_mode": {
    "name": "ipython",
    "version": 3
   },
   "file_extension": ".py",
   "mimetype": "text/x-python",
   "name": "python",
   "nbconvert_exporter": "python",
   "pygments_lexer": "ipython3",
   "version": "3.7.3-final"
  },
  "orig_nbformat": 2,
  "kernelspec": {
   "name": "python37364bitmlpy3virtualenve4c2cc5820f64ddcb26d94d20ec3a03f",
   "display_name": "Python 3.7.3 64-bit ('mlpy3': virtualenv)"
  }
 },
 "nbformat": 4,
 "nbformat_minor": 2
}